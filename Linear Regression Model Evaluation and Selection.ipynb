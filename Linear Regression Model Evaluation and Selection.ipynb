{
 "cells": [
  {
   "cell_type": "code",
   "execution_count": 1,
   "id": "46174596",
   "metadata": {},
   "outputs": [
    {
     "name": "stderr",
     "output_type": "stream",
     "text": [
      "C:\\Users\\LENOVO\\anaconda3\\lib\\site-packages\\scipy\\__init__.py:146: UserWarning: A NumPy version >=1.16.5 and <1.23.0 is required for this version of SciPy (detected version 1.26.2\n",
      "  warnings.warn(f\"A NumPy version >={np_minversion} and <{np_maxversion}\"\n"
     ]
    },
    {
     "name": "stdout",
     "output_type": "stream",
     "text": [
      "WARNING:tensorflow:From C:\\Users\\LENOVO\\anaconda3\\lib\\site-packages\\keras\\src\\losses.py:2976: The name tf.losses.sparse_softmax_cross_entropy is deprecated. Please use tf.compat.v1.losses.sparse_softmax_cross_entropy instead.\n",
      "\n"
     ]
    }
   ],
   "source": [
    "import numpy as np \n",
    "import matplotlib.pyplot as plt \n",
    "import pandas as pd \n",
    "import tensorflow as tf"
   ]
  },
  {
   "cell_type": "code",
   "execution_count": 2,
   "id": "a471559e",
   "metadata": {},
   "outputs": [],
   "source": [
    "data= pd.read_csv(\"advertising (1).csv\")"
   ]
  },
  {
   "cell_type": "code",
   "execution_count": 3,
   "id": "539047ad",
   "metadata": {},
   "outputs": [
    {
     "data": {
      "text/html": [
       "<div>\n",
       "<style scoped>\n",
       "    .dataframe tbody tr th:only-of-type {\n",
       "        vertical-align: middle;\n",
       "    }\n",
       "\n",
       "    .dataframe tbody tr th {\n",
       "        vertical-align: top;\n",
       "    }\n",
       "\n",
       "    .dataframe thead th {\n",
       "        text-align: right;\n",
       "    }\n",
       "</style>\n",
       "<table border=\"1\" class=\"dataframe\">\n",
       "  <thead>\n",
       "    <tr style=\"text-align: right;\">\n",
       "      <th></th>\n",
       "      <th>TV</th>\n",
       "      <th>Radio</th>\n",
       "      <th>Newspaper</th>\n",
       "      <th>Sales</th>\n",
       "    </tr>\n",
       "  </thead>\n",
       "  <tbody>\n",
       "    <tr>\n",
       "      <th>0</th>\n",
       "      <td>230.1</td>\n",
       "      <td>37.8</td>\n",
       "      <td>69.2</td>\n",
       "      <td>22.1</td>\n",
       "    </tr>\n",
       "    <tr>\n",
       "      <th>1</th>\n",
       "      <td>44.5</td>\n",
       "      <td>39.3</td>\n",
       "      <td>45.1</td>\n",
       "      <td>10.4</td>\n",
       "    </tr>\n",
       "    <tr>\n",
       "      <th>2</th>\n",
       "      <td>17.2</td>\n",
       "      <td>45.9</td>\n",
       "      <td>69.3</td>\n",
       "      <td>12.0</td>\n",
       "    </tr>\n",
       "    <tr>\n",
       "      <th>3</th>\n",
       "      <td>151.5</td>\n",
       "      <td>41.3</td>\n",
       "      <td>58.5</td>\n",
       "      <td>16.5</td>\n",
       "    </tr>\n",
       "    <tr>\n",
       "      <th>4</th>\n",
       "      <td>180.8</td>\n",
       "      <td>10.8</td>\n",
       "      <td>58.4</td>\n",
       "      <td>17.9</td>\n",
       "    </tr>\n",
       "    <tr>\n",
       "      <th>...</th>\n",
       "      <td>...</td>\n",
       "      <td>...</td>\n",
       "      <td>...</td>\n",
       "      <td>...</td>\n",
       "    </tr>\n",
       "    <tr>\n",
       "      <th>195</th>\n",
       "      <td>38.2</td>\n",
       "      <td>3.7</td>\n",
       "      <td>13.8</td>\n",
       "      <td>7.6</td>\n",
       "    </tr>\n",
       "    <tr>\n",
       "      <th>196</th>\n",
       "      <td>94.2</td>\n",
       "      <td>4.9</td>\n",
       "      <td>8.1</td>\n",
       "      <td>14.0</td>\n",
       "    </tr>\n",
       "    <tr>\n",
       "      <th>197</th>\n",
       "      <td>177.0</td>\n",
       "      <td>9.3</td>\n",
       "      <td>6.4</td>\n",
       "      <td>14.8</td>\n",
       "    </tr>\n",
       "    <tr>\n",
       "      <th>198</th>\n",
       "      <td>283.6</td>\n",
       "      <td>42.0</td>\n",
       "      <td>66.2</td>\n",
       "      <td>25.5</td>\n",
       "    </tr>\n",
       "    <tr>\n",
       "      <th>199</th>\n",
       "      <td>232.1</td>\n",
       "      <td>8.6</td>\n",
       "      <td>8.7</td>\n",
       "      <td>18.4</td>\n",
       "    </tr>\n",
       "  </tbody>\n",
       "</table>\n",
       "<p>200 rows × 4 columns</p>\n",
       "</div>"
      ],
      "text/plain": [
       "        TV  Radio  Newspaper  Sales\n",
       "0    230.1   37.8       69.2   22.1\n",
       "1     44.5   39.3       45.1   10.4\n",
       "2     17.2   45.9       69.3   12.0\n",
       "3    151.5   41.3       58.5   16.5\n",
       "4    180.8   10.8       58.4   17.9\n",
       "..     ...    ...        ...    ...\n",
       "195   38.2    3.7       13.8    7.6\n",
       "196   94.2    4.9        8.1   14.0\n",
       "197  177.0    9.3        6.4   14.8\n",
       "198  283.6   42.0       66.2   25.5\n",
       "199  232.1    8.6        8.7   18.4\n",
       "\n",
       "[200 rows x 4 columns]"
      ]
     },
     "execution_count": 3,
     "metadata": {},
     "output_type": "execute_result"
    }
   ],
   "source": [
    "data"
   ]
  },
  {
   "cell_type": "code",
   "execution_count": 58,
   "id": "f4ead61e",
   "metadata": {},
   "outputs": [],
   "source": [
    "x=data.drop(columns=[\"Sales\"])\n",
    "y=data[[\"Sales\"]]"
   ]
  },
  {
   "cell_type": "code",
   "execution_count": 59,
   "id": "66a448a5",
   "metadata": {},
   "outputs": [
    {
     "name": "stdout",
     "output_type": "stream",
     "text": [
      "features shape : (200, 3)\n",
      "target shape  : (200, 1)\n"
     ]
    }
   ],
   "source": [
    "print(f\"features shape : {x.shape}\")\n",
    "print(f\"target shape  : {y.shape}\")"
   ]
  },
  {
   "cell_type": "code",
   "execution_count": 43,
   "id": "83f3a723",
   "metadata": {},
   "outputs": [],
   "source": [
    "#the first step is to split the data in three parts :\n",
    "#train set \n",
    "#test set \n",
    "#cross validation set"
   ]
  },
  {
   "cell_type": "code",
   "execution_count": 60,
   "id": "29e300a4",
   "metadata": {},
   "outputs": [],
   "source": [
    "from sklearn.model_selection import train_test_split\n",
    "x_train,x_,y_train,y_=train_test_split(x,y,test_size=0.4,random_state=47)\n",
    "x_test,x_cv,y_test,y_cv=train_test_split(x_,y_,test_size=0.5,random_state=47)\n",
    "del x_,y_"
   ]
  },
  {
   "cell_type": "code",
   "execution_count": 62,
   "id": "739a406e",
   "metadata": {},
   "outputs": [
    {
     "name": "stdout",
     "output_type": "stream",
     "text": [
      " the shape of the training set input (120, 3)\n",
      " the shape of the training set target (120, 3)\n",
      " the shape of the test set input (40, 3)\n",
      " the shape of the test set target (40, 3)\n",
      " the shape of the cross_validation set input (40, 3)\n",
      " the shape of the cross_validation set shape target (40, 1)\n"
     ]
    }
   ],
   "source": [
    "print(f\" the shape of the training set input {x_train.shape}\")\n",
    "print(f\" the shape of the training set target {x_train.shape}\")\n",
    "\n",
    "print(f\" the shape of the test set input {x_test.shape}\")\n",
    "print(f\" the shape of the test set target {x_test.shape}\")\n",
    "\n",
    "print(f\" the shape of the cross_validation set input {x_cv.shape}\")\n",
    "print(f\" the shape of the cross_validation set shape target {y_cv.shape}\")"
   ]
  },
  {
   "cell_type": "code",
   "execution_count": 63,
   "id": "3f6ae303",
   "metadata": {},
   "outputs": [],
   "source": [
    "# the second steps is the features scaling :\n",
    "# we will use the  standarisation to help our model converge faster \n",
    "from sklearn.preprocessing import StandardScaler,PolynomialFeatures\n",
    "standard_scaler=StandardScaler()\n",
    "x_train_scaler=standard_scaler.fit_transform(x_train)"
   ]
  },
  {
   "cell_type": "code",
   "execution_count": 64,
   "id": "a98b4f3d",
   "metadata": {},
   "outputs": [
    {
     "data": {
      "text/plain": [
       "array([[-1.77693894,  0.90152522,  0.62091297],\n",
       "       [-1.60729791,  1.04293213, -0.94766328],\n",
       "       [-0.21965869, -0.60681524, -0.90833964],\n",
       "       [ 1.49993996, -0.9030964 , -0.41897881],\n",
       "       [ 1.28636312,  0.35609853, -0.65928993],\n",
       "       [-1.61340011,  0.14735499,  0.5378964 ],\n",
       "       [ 0.70055237,  0.03288272, -1.17923582],\n",
       "       [ 0.37957689, -0.36440338, -0.23546849],\n",
       "       [-0.98731487, -1.52932704, -0.70735216],\n",
       "       [ 1.32175585, -0.23646379, -1.34089967],\n",
       "       [ 0.8140532 , -1.42158844, -0.67239781],\n",
       "       [-0.64315105, -1.19937756,  0.14902931],\n",
       "       [-1.37419405,  0.15408865, -0.45393315],\n",
       "       [ 0.22458113, -0.54621228, -1.24914451],\n",
       "       [-0.8164534 , -1.56299535, -0.34033153],\n",
       "       [ 0.91290876, -1.00410134, -0.97387904],\n",
       "       [-0.94093818, -1.58319634, -0.95203257],\n",
       "       [-0.2574923 , -0.29033309, -0.62870488],\n",
       "       [-1.05810033, -0.5058103 ,  0.42866407],\n",
       "       [-0.12202357,  0.02614906, -0.51947255],\n",
       "       [ 0.77133783,  0.65237969,  0.30195457],\n",
       "       [-1.75863236, -0.51254396,  0.81316187],\n",
       "       [ 1.01054389, -1.09163896, -0.97387904],\n",
       "       [ 0.65295524,  1.75670039,  0.29321598],\n",
       "       [ 1.11184033,  0.45036981, -0.46704103],\n",
       "       [ 0.74692905, -1.21957855, -0.15682121],\n",
       "       [-0.22087913, -0.62028257, -0.23546849],\n",
       "       [-0.77007671, -1.25324687, -1.0000948 ],\n",
       "       [-1.26679541, -1.44852309, -0.41897881],\n",
       "       [-0.84208262,  0.13388766,  1.85305365],\n",
       "       [ 0.76889695,  1.71629841, -1.21419016],\n",
       "       [-1.43765688,  1.18433905, -1.10058854],\n",
       "       [ 1.57072542, -0.64721722, -1.1923437 ],\n",
       "       [ 0.8360211 , -1.031036  ,  1.1146431 ],\n",
       "       [ 1.61588167,  1.265143  ,  0.88307056],\n",
       "       [-0.23674484,  1.54122318,  1.22387543],\n",
       "       [ 0.60535812, -1.01756867, -0.20051415],\n",
       "       [-1.10325658, -0.7953578 ,  0.25389234],\n",
       "       [ 0.57118583,  0.63217871,  0.65586732],\n",
       "       [ 0.11596205,  1.24494202, -1.19671299],\n",
       "       [-0.38563841,  0.90152522,  2.10647265],\n",
       "       [ 0.3734747 , -0.42500635, -0.57190407],\n",
       "       [ 0.33686152, -0.16912716, -0.39276305],\n",
       "       [ 0.18552708, -0.36440338, -0.01263454],\n",
       "       [ 1.14235131,  0.87459056,  1.80499142],\n",
       "       [ 1.65493572,  0.32243022,  0.53352711],\n",
       "       [ 0.07324668,  0.54464109,  0.95734855],\n",
       "       [-1.69028777, -0.12199152,  0.84811622],\n",
       "       [-0.09273303,  0.8139876 , -1.09184995],\n",
       "       [ 0.24044684,  0.66584702,  0.33690891],\n",
       "       [-0.44299904, -1.01756867,  0.77383823],\n",
       "       [ 0.33686152,  1.37288161, -1.27972956],\n",
       "       [ 1.51458523,  1.08333411,  1.08405805],\n",
       "       [ 1.19727107,  0.22815894, -1.11369642],\n",
       "       [-0.19524991,  0.22142528,  0.6646059 ],\n",
       "       [-0.77373803,  1.34594696,  0.85248551],\n",
       "       [ 0.70909544,  0.00594807,  1.16270533],\n",
       "       [ 1.11672209,  0.24162627, -0.35343941],\n",
       "       [ 0.79452617, -1.29364884,  0.82190046],\n",
       "       [-1.83063826,  0.30896289,  0.45487983],\n",
       "       [-1.62926582,  0.78031929,  1.52535666],\n",
       "       [-1.02392804, -0.43847367, -0.79036873],\n",
       "       [ 1.17774404, -0.14892617, -0.04321959],\n",
       "       [ 0.58216978,  1.45368556, -0.49762608],\n",
       "       [-0.2074543 , -1.45525675, -0.96077116],\n",
       "       [ 1.54143489,  1.24494202,  1.53846454],\n",
       "       [ 0.88117735,  0.59177673,  1.88800799],\n",
       "       [-0.57968822,  1.63549446,  0.89180915],\n",
       "       [ 1.45966547,  1.70956475,  0.472357  ],\n",
       "       [ 0.49185729, -0.01425292, -0.73356791],\n",
       "       [ 0.79452617, -1.35425181, -0.78163014],\n",
       "       [ 0.9421993 , -1.35425181,  2.35115307],\n",
       "       [-0.74566793, -0.58661425,  0.3456475 ],\n",
       "       [-1.7098148 ,  1.50755486,  1.67391263],\n",
       "       [-1.71347611,  1.35941428,  2.55214056],\n",
       "       [ 0.72129983,  1.22474103,  0.37623255],\n",
       "       [ 0.6859071 ,  1.31227864,  0.12281355],\n",
       "       [-0.69440949, -0.93676472, -1.19671299],\n",
       "       [-0.28068065, -1.25324687, -0.94766328],\n",
       "       [-0.31241206, -0.34420239,  0.15776789],\n",
       "       [-0.98853531,  0.26856092, -0.65492064],\n",
       "       [ 0.97759204,  0.26856092, -0.8733853 ],\n",
       "       [-0.85550745, -0.78862414, -0.22236061],\n",
       "       [ 1.0483775 ,  1.71629841,  0.58158933],\n",
       "       [ 0.97759204, -1.23977954, -0.32722365],\n",
       "       [ 1.01054389, -0.45867466, -0.35343941],\n",
       "       [-0.87381403,  0.82745493,  0.80005399],\n",
       "       [-0.504021  , -1.06470431, -0.34470082],\n",
       "       [ 1.42061142,  0.36283219,  1.25446048],\n",
       "       [ 1.69765109,  0.86112324,  3.05460927],\n",
       "       [ 0.07568756,  0.89479155, -1.03067985],\n",
       "       [ 0.28682352, -0.85596076,  1.19765967],\n",
       "       [-1.53529201,  0.0732847 , -1.2578831 ],\n",
       "       [-0.75177013, -1.48892506, -1.03067985],\n",
       "       [-0.34048216, -1.19937756,  0.01358122],\n",
       "       [ 0.85310725, -0.51927763,  0.82626975],\n",
       "       [ 0.30879143,  1.52775585,  1.21076755],\n",
       "       [ 1.59025245,  1.31227864,  1.78314496],\n",
       "       [ 1.54997796, -0.86942809, -1.07437278],\n",
       "       [-1.45352259, -1.33405082, -0.75104509],\n",
       "       [-0.00852273, -1.40812111, -0.99135621],\n",
       "       [-0.41736982,  0.74665097, -0.81221519],\n",
       "       [-0.56870427,  1.15067074,  1.40738574],\n",
       "       [-1.07762736, -0.95696571, -1.31468391],\n",
       "       [-0.96534696,  1.56815783,  0.1533986 ],\n",
       "       [ 0.51870695, -1.3744528 ,  0.15776789],\n",
       "       [ 0.50772299,  1.74323306,  1.26756836],\n",
       "       [ 0.63830997, -0.19606181, -0.88649318],\n",
       "       [ 0.13548908, -1.10510629, -0.79473802],\n",
       "       [ 0.24044684, -0.95696571, -1.07437278],\n",
       "       [-0.45276255, -0.26339844, -0.84716954],\n",
       "       [ 0.6517348 ,  0.40323417, -0.94766328],\n",
       "       [ 0.86653208, -0.44520734, -0.20925273],\n",
       "       [-0.98731487,  0.21469161, -0.37965517],\n",
       "       [ 0.10131678, -0.90983007, -0.58501195],\n",
       "       [-1.59265264,  0.63891237, -0.51073396],\n",
       "       [-1.81477256, -1.44178942, -1.31031461],\n",
       "       [-0.57968822, -0.62028257,  0.03105839],\n",
       "       [-1.4693883 ,  1.01599748,  1.51224878],\n",
       "       [-1.33025825,  1.58162515, -0.98261763]])"
      ]
     },
     "execution_count": 64,
     "metadata": {},
     "output_type": "execute_result"
    }
   ],
   "source": [
    "x_train_scaler"
   ]
  },
  {
   "cell_type": "markdown",
   "id": "0d5b0e8d",
   "metadata": {},
   "source": [
    "### Plot the data before standardization"
   ]
  },
  {
   "cell_type": "code",
   "execution_count": 65,
   "id": "0fbf0ff7",
   "metadata": {},
   "outputs": [
    {
     "data": {
      "image/png": "[encoded data removed]",
      "text/plain": [
       "<Figure size 432x288 with 1 Axes>"
      ]
     },
     "metadata": {
      "needs_background": "light"
     },
     "output_type": "display_data"
    },
    {
     "data": {
      "image/png": "[encoded data removed]",
      "text/plain": [
       "<Figure size 432x288 with 1 Axes>"
      ]
     },
     "metadata": {
      "needs_background": "light"
     },
     "output_type": "display_data"
    },
    {
     "data": {
      "image/png": "[encoded data removed]",
      "text/plain": [
       "<Figure size 432x288 with 1 Axes>"
      ]
     },
     "metadata": {
      "needs_background": "light"
     },
     "output_type": "display_data"
    }
   ],
   "source": [
    "name_columns=x_train.columns\n",
    "for column in name_columns:\n",
    "    plt.figure()\n",
    "    plt.scatter(x_train[column],y_train.values)\n",
    "    plt.ylabel(column)\n",
    "    plt.xlabel(\"Sales\")\n",
    "    plt.show()"
   ]
  },
  {
   "cell_type": "markdown",
   "id": "5438aae7",
   "metadata": {},
   "source": [
    "### Plot the data after standardization."
   ]
  },
  {
   "cell_type": "code",
   "execution_count": 66,
   "id": "3a2397e1",
   "metadata": {},
   "outputs": [
    {
     "data": {
      "image/png": "[encoded data removed]",
      "text/plain": [
       "<Figure size 432x288 with 1 Axes>"
      ]
     },
     "metadata": {
      "needs_background": "light"
     },
     "output_type": "display_data"
    },
    {
     "data": {
      "image/png": "[encoded data removed]",
      "text/plain": [
       "<Figure size 432x288 with 1 Axes>"
      ]
     },
     "metadata": {
      "needs_background": "light"
     },
     "output_type": "display_data"
    },
    {
     "data": {
      "image/png": "[encoded data removed]",
      "text/plain": [
       "<Figure size 432x288 with 1 Axes>"
      ]
     },
     "metadata": {
      "needs_background": "light"
     },
     "output_type": "display_data"
    }
   ],
   "source": [
    "num_columns=x_train.shape[1]\n",
    "for column in range(num_columns):\n",
    "    plt.figure()\n",
    "    plt.scatter(x_train_scaler[:,column],y_train.values)\n",
    "    plt.ylabel(column)\n",
    "    plt.xlabel(\"Sales\")\n",
    "    plt.show()"
   ]
  },
  {
   "cell_type": "code",
   "execution_count": 67,
   "id": "35500723",
   "metadata": {},
   "outputs": [
    {
     "name": "stdout",
     "output_type": "stream",
     "text": [
      " mse for train set :1.0802725364135384\n"
     ]
    }
   ],
   "source": [
    "from sklearn.linear_model  import LinearRegression\n",
    "from sklearn.metrics import mean_squared_error\n",
    "model=LinearRegression()\n",
    "model.fit(x_train_scaler,y_train)\n",
    "y_hat=model.predict(x_train_scaler)\n",
    "mse_tr=mean_squared_error(y_train,y_hat) # this function divides by m and not 2*m\n",
    "print(f\" mse for train set :{mse_tr/2}\") # we must divide per 2"
   ]
  },
  {
   "cell_type": "code",
   "execution_count": 68,
   "id": "96c11411",
   "metadata": {},
   "outputs": [],
   "source": [
    "# normalizing the cross validation set"
   ]
  },
  {
   "cell_type": "code",
   "execution_count": 69,
   "id": "90ed51c0",
   "metadata": {},
   "outputs": [],
   "source": [
    "x_cv_scaler=standard_scaler.transform(x_cv)"
   ]
  },
  {
   "cell_type": "code",
   "execution_count": 70,
   "id": "44c752fd",
   "metadata": {},
   "outputs": [
    {
     "name": "stdout",
     "output_type": "stream",
     "text": [
      " mse for cross validation set :1.5422437005796326\n"
     ]
    }
   ],
   "source": [
    "model.fit(x_cv_scaler,y_cv)\n",
    "y_hat=model.predict(x_cv_scaler)\n",
    "mse_cv=mean_squared_error(y_cv,y_hat) # this function divides by m and not 2*m\n",
    "print(f\" mse for cross validation set :{mse_cv/2}\")"
   ]
  },
  {
   "cell_type": "code",
   "execution_count": 71,
   "id": "8614f3d6",
   "metadata": {},
   "outputs": [],
   "source": [
    "# We are using a polynomial model to improve our model."
   ]
  },
  {
   "cell_type": "code",
   "execution_count": 72,
   "id": "240c8b0f",
   "metadata": {},
   "outputs": [
    {
     "name": "stdout",
     "output_type": "stream",
     "text": [
      " mse for polynomial model for train set 0.7649064832073996\n"
     ]
    }
   ],
   "source": [
    "poly=PolynomialFeatures(degree=2,include_bias=False)\n",
    "x_train_mapped=poly.fit_transform(x_train)\n",
    "standard_scaler=StandardScaler()\n",
    "x_train_mapped_scaler=standard_scaler.fit_transform(x_train_mapped)\n",
    "model=LinearRegression()\n",
    "model.fit(x_train_mapped_scaler,y_train)\n",
    "y_hat=model.predict(x_train_mapped_scaler)\n",
    "print(f\" mse for polynomial model for train set {mean_squared_error(y_train,y_hat)/2}\")"
   ]
  },
  {
   "cell_type": "code",
   "execution_count": 73,
   "id": "d8e7bfee",
   "metadata": {},
   "outputs": [
    {
     "name": "stdout",
     "output_type": "stream",
     "text": [
      " mse dor polynomial features for cv set 1.0951934218596175\n"
     ]
    }
   ],
   "source": [
    "x_cv_mapped=poly.transform(x_cv)\n",
    "x_cv_mapped_scaler=standard_scaler.transform(x_cv_mapped)\n",
    "y_hat=model.predict(x_cv_mapped_scaler)\n",
    "print(f\" mse dor polynomial features for cv set {mean_squared_error(y_cv,y_hat)/2}\")"
   ]
  },
  {
   "cell_type": "markdown",
   "id": "a0645fc1",
   "metadata": {},
   "source": [
    "### model selection"
   ]
  },
  {
   "cell_type": "code",
   "execution_count": 54,
   "id": "19fedbe0",
   "metadata": {},
   "outputs": [
    {
     "data": {
      "text/plain": [
       "Text(0, 0.5, ' MSE ')"
      ]
     },
     "execution_count": 54,
     "metadata": {},
     "output_type": "execute_result"
    },
    {
     "data": {
      "image/png": "[encoded data removed]",
      "text/plain": [
       "<Figure size 432x288 with 1 Axes>"
      ]
     },
     "metadata": {
      "needs_background": "light"
     },
     "output_type": "display_data"
    }
   ],
   "source": [
    "train_mse=[]\n",
    "cv_mse=[]\n",
    "polys=[]\n",
    "models=[]\n",
    "scaler=[]\n",
    "\n",
    "for degree in range(1,6):\n",
    "    poly=PolynomialFeatures(degree=degree,include_bias=False)\n",
    "    x_train_mapped=poly.fit_transform(x_train)\n",
    "    polys.append(poly)\n",
    "    \n",
    "    standard_scaler=StandardScaler()\n",
    "    x_train_mapped_scaler=standard_scaler.fit_transform(x_train_mapped)\n",
    "    scaler.append(standard_scaler)\n",
    "    \n",
    "    model=LinearRegression()\n",
    "    model.fit(x_train_mapped_scaler,y_train)\n",
    "    models.append(model)\n",
    "    \n",
    "    y_hat=model.predict(x_train_mapped_scaler)\n",
    "    mse_train=(mean_squared_error(y_train,y_hat)/2)\n",
    "    train_mse.append(mse_train)\n",
    "    \n",
    "    x_cv_mapped=poly.transform(x_cv)\n",
    "    x_cv_mapped_scaler=standard_scaler.transform(x_cv_mapped)\n",
    "    y_hat=model.predict(x_cv_mapped_scaler)\n",
    "    mse_cv=(mean_squared_error(y_cv,y_hat)/2)\n",
    "    cv_mse.append(mse_cv)\n",
    "degree=range(1,6)\n",
    "plt.plot(degree,train_mse)\n",
    "plt.plot(degree,cv_mse)\n",
    "plt.xlabel(\"polynom degree \")\n",
    "plt.ylabel(\" MSE \")"
   ]
  },
  {
   "cell_type": "code",
   "execution_count": 55,
   "id": "1a7f793d",
   "metadata": {},
   "outputs": [
    {
     "name": "stdout",
     "output_type": "stream",
     "text": [
      "Lowest CV MSE is found in the model with degree=2\n"
     ]
    }
   ],
   "source": [
    "degree = np.argmin(cv_mses) + 1\n",
    "print(f\"Lowest CV MSE is found in the model with degree={degree}\")"
   ]
  },
  {
   "cell_type": "markdown",
   "id": "24ffb516",
   "metadata": {},
   "source": [
    "## test set"
   ]
  },
  {
   "cell_type": "code",
   "execution_count": 56,
   "id": "ae6949d0",
   "metadata": {},
   "outputs": [
    {
     "name": "stdout",
     "output_type": "stream",
     "text": [
      "Training MSE: 0.76\n",
      "Cross Validation MSE: 1.10\n",
      "Test MSE: 1.47\n"
     ]
    }
   ],
   "source": [
    "# Add polynomial features to the test set\n",
    "X_test_mapped = polys[degree-1].transform(x_test)\n",
    "\n",
    "# Scale the test set\n",
    "X_test_mapped_scaled = scalers[degree-1].transform(X_test_mapped)\n",
    "\n",
    "# Compute the test MSE\n",
    "yhat = models[degree-1].predict(X_test_mapped_scaled)\n",
    "test_mse = mean_squared_error(y_test, yhat) / 2\n",
    "\n",
    "print(f\"Training MSE: {train_mses[degree-1]:.2f}\")\n",
    "print(f\"Cross Validation MSE: {cv_mses[degree-1]:.2f}\")\n",
    "print(f\"Test MSE: {test_mse:.2f}\")"
   ]
  },
  {
   "cell_type": "code",
   "execution_count": null,
   "id": "5545baac",
   "metadata": {},
   "outputs": [],
   "source": []
  },
  {
   "cell_type": "code",
   "execution_count": null,
   "id": "c22d2805",
   "metadata": {},
   "outputs": [],
   "source": []
  }
 ],
 "metadata": {
  "kernelspec": {
   "display_name": "Python 3 (ipykernel)",
   "language": "python",
   "name": "python3"
  },
  "language_info": {
   "codemirror_mode": {
    "name": "ipython",
    "version": 3
   },
   "file_extension": ".py",
   "mimetype": "text/x-python",
   "name": "python",
   "nbconvert_exporter": "python",
   "pygments_lexer": "ipython3",
   "version": "3.9.12"
  }
 },
 "nbformat": 4,
 "nbformat_minor": 5
}
